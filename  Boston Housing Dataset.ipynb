{
 "cells": [
  {
   "cell_type": "code",
   "execution_count": 1,
   "id": "4f3571d8",
   "metadata": {},
   "outputs": [],
   "source": [
    "import pandas as pd\n",
    "import numpy as np"
   ]
  },
  {
   "cell_type": "code",
   "execution_count": 2,
   "id": "b34a1388",
   "metadata": {},
   "outputs": [],
   "source": [
    "column_names = ['CRIM', 'ZN', 'INDUS', 'CHAS', 'NOX', 'RM', 'AGE', 'DIS', 'RAD', 'TAX', 'PTRATIO', 'B', 'LSTAT', 'MEDV']"
   ]
  },
  {
   "cell_type": "code",
   "execution_count": 3,
   "id": "b0e23248",
   "metadata": {},
   "outputs": [],
   "source": [
    "df = pd.read_csv(\"housing.csv\" , header=None, delimiter=r\"\\s+\", names=column_names)"
   ]
  },
  {
   "cell_type": "code",
   "execution_count": 4,
   "id": "734b8c99",
   "metadata": {},
   "outputs": [
    {
     "data": {
      "text/html": [
       "<div>\n",
       "<style scoped>\n",
       "    .dataframe tbody tr th:only-of-type {\n",
       "        vertical-align: middle;\n",
       "    }\n",
       "\n",
       "    .dataframe tbody tr th {\n",
       "        vertical-align: top;\n",
       "    }\n",
       "\n",
       "    .dataframe thead th {\n",
       "        text-align: right;\n",
       "    }\n",
       "</style>\n",
       "<table border=\"1\" class=\"dataframe\">\n",
       "  <thead>\n",
       "    <tr style=\"text-align: right;\">\n",
       "      <th></th>\n",
       "      <th>CRIM</th>\n",
       "      <th>ZN</th>\n",
       "      <th>INDUS</th>\n",
       "      <th>CHAS</th>\n",
       "      <th>NOX</th>\n",
       "      <th>RM</th>\n",
       "      <th>AGE</th>\n",
       "      <th>DIS</th>\n",
       "      <th>RAD</th>\n",
       "      <th>TAX</th>\n",
       "      <th>PTRATIO</th>\n",
       "      <th>B</th>\n",
       "      <th>LSTAT</th>\n",
       "      <th>MEDV</th>\n",
       "    </tr>\n",
       "  </thead>\n",
       "  <tbody>\n",
       "    <tr>\n",
       "      <th>0</th>\n",
       "      <td>0.00632</td>\n",
       "      <td>18.0</td>\n",
       "      <td>2.31</td>\n",
       "      <td>0</td>\n",
       "      <td>0.538</td>\n",
       "      <td>6.575</td>\n",
       "      <td>65.2</td>\n",
       "      <td>4.0900</td>\n",
       "      <td>1</td>\n",
       "      <td>296.0</td>\n",
       "      <td>15.3</td>\n",
       "      <td>396.90</td>\n",
       "      <td>4.98</td>\n",
       "      <td>24.0</td>\n",
       "    </tr>\n",
       "    <tr>\n",
       "      <th>1</th>\n",
       "      <td>0.02731</td>\n",
       "      <td>0.0</td>\n",
       "      <td>7.07</td>\n",
       "      <td>0</td>\n",
       "      <td>0.469</td>\n",
       "      <td>6.421</td>\n",
       "      <td>78.9</td>\n",
       "      <td>4.9671</td>\n",
       "      <td>2</td>\n",
       "      <td>242.0</td>\n",
       "      <td>17.8</td>\n",
       "      <td>396.90</td>\n",
       "      <td>9.14</td>\n",
       "      <td>21.6</td>\n",
       "    </tr>\n",
       "    <tr>\n",
       "      <th>2</th>\n",
       "      <td>0.02729</td>\n",
       "      <td>0.0</td>\n",
       "      <td>7.07</td>\n",
       "      <td>0</td>\n",
       "      <td>0.469</td>\n",
       "      <td>7.185</td>\n",
       "      <td>61.1</td>\n",
       "      <td>4.9671</td>\n",
       "      <td>2</td>\n",
       "      <td>242.0</td>\n",
       "      <td>17.8</td>\n",
       "      <td>392.83</td>\n",
       "      <td>4.03</td>\n",
       "      <td>34.7</td>\n",
       "    </tr>\n",
       "    <tr>\n",
       "      <th>3</th>\n",
       "      <td>0.03237</td>\n",
       "      <td>0.0</td>\n",
       "      <td>2.18</td>\n",
       "      <td>0</td>\n",
       "      <td>0.458</td>\n",
       "      <td>6.998</td>\n",
       "      <td>45.8</td>\n",
       "      <td>6.0622</td>\n",
       "      <td>3</td>\n",
       "      <td>222.0</td>\n",
       "      <td>18.7</td>\n",
       "      <td>394.63</td>\n",
       "      <td>2.94</td>\n",
       "      <td>33.4</td>\n",
       "    </tr>\n",
       "    <tr>\n",
       "      <th>4</th>\n",
       "      <td>0.06905</td>\n",
       "      <td>0.0</td>\n",
       "      <td>2.18</td>\n",
       "      <td>0</td>\n",
       "      <td>0.458</td>\n",
       "      <td>7.147</td>\n",
       "      <td>54.2</td>\n",
       "      <td>6.0622</td>\n",
       "      <td>3</td>\n",
       "      <td>222.0</td>\n",
       "      <td>18.7</td>\n",
       "      <td>396.90</td>\n",
       "      <td>5.33</td>\n",
       "      <td>36.2</td>\n",
       "    </tr>\n",
       "  </tbody>\n",
       "</table>\n",
       "</div>"
      ],
      "text/plain": [
       "      CRIM    ZN  INDUS  CHAS    NOX     RM   AGE     DIS  RAD    TAX  \\\n",
       "0  0.00632  18.0   2.31     0  0.538  6.575  65.2  4.0900    1  296.0   \n",
       "1  0.02731   0.0   7.07     0  0.469  6.421  78.9  4.9671    2  242.0   \n",
       "2  0.02729   0.0   7.07     0  0.469  7.185  61.1  4.9671    2  242.0   \n",
       "3  0.03237   0.0   2.18     0  0.458  6.998  45.8  6.0622    3  222.0   \n",
       "4  0.06905   0.0   2.18     0  0.458  7.147  54.2  6.0622    3  222.0   \n",
       "\n",
       "   PTRATIO       B  LSTAT  MEDV  \n",
       "0     15.3  396.90   4.98  24.0  \n",
       "1     17.8  396.90   9.14  21.6  \n",
       "2     17.8  392.83   4.03  34.7  \n",
       "3     18.7  394.63   2.94  33.4  \n",
       "4     18.7  396.90   5.33  36.2  "
      ]
     },
     "execution_count": 4,
     "metadata": {},
     "output_type": "execute_result"
    }
   ],
   "source": [
    "df.head()"
   ]
  },
  {
   "cell_type": "code",
   "execution_count": 5,
   "id": "f559cc8e",
   "metadata": {},
   "outputs": [],
   "source": [
    "x = df.iloc[:,:12].values"
   ]
  },
  {
   "cell_type": "code",
   "execution_count": 6,
   "id": "2336893b",
   "metadata": {},
   "outputs": [
    {
     "data": {
      "text/plain": [
       "array([[6.3200e-03, 1.8000e+01, 2.3100e+00, ..., 2.9600e+02, 1.5300e+01,\n",
       "        3.9690e+02],\n",
       "       [2.7310e-02, 0.0000e+00, 7.0700e+00, ..., 2.4200e+02, 1.7800e+01,\n",
       "        3.9690e+02],\n",
       "       [2.7290e-02, 0.0000e+00, 7.0700e+00, ..., 2.4200e+02, 1.7800e+01,\n",
       "        3.9283e+02],\n",
       "       ...,\n",
       "       [6.0760e-02, 0.0000e+00, 1.1930e+01, ..., 2.7300e+02, 2.1000e+01,\n",
       "        3.9690e+02],\n",
       "       [1.0959e-01, 0.0000e+00, 1.1930e+01, ..., 2.7300e+02, 2.1000e+01,\n",
       "        3.9345e+02],\n",
       "       [4.7410e-02, 0.0000e+00, 1.1930e+01, ..., 2.7300e+02, 2.1000e+01,\n",
       "        3.9690e+02]])"
      ]
     },
     "execution_count": 6,
     "metadata": {},
     "output_type": "execute_result"
    }
   ],
   "source": [
    "x"
   ]
  },
  {
   "cell_type": "code",
   "execution_count": 7,
   "id": "63309582",
   "metadata": {},
   "outputs": [],
   "source": [
    "y = df.iloc[:,12].values"
   ]
  },
  {
   "cell_type": "code",
   "execution_count": 8,
   "id": "8d79172f",
   "metadata": {},
   "outputs": [
    {
     "data": {
      "text/plain": [
       "array([ 4.98,  9.14,  4.03,  2.94,  5.33,  5.21, 12.43, 19.15, 29.93,\n",
       "       17.1 , 20.45, 13.27, 15.71,  8.26, 10.26,  8.47,  6.58, 14.67,\n",
       "       11.69, 11.28, 21.02, 13.83, 18.72, 19.88, 16.3 , 16.51, 14.81,\n",
       "       17.28, 12.8 , 11.98, 22.6 , 13.04, 27.71, 18.35, 20.34,  9.68,\n",
       "       11.41,  8.77, 10.13,  4.32,  1.98,  4.84,  5.81,  7.44,  9.55,\n",
       "       10.21, 14.15, 18.8 , 30.81, 16.2 , 13.45,  9.43,  5.28,  8.43,\n",
       "       14.8 ,  4.81,  5.77,  3.95,  6.86,  9.22, 13.15, 14.44,  6.73,\n",
       "        9.5 ,  8.05,  4.67, 10.24,  8.1 , 13.09,  8.79,  6.72,  9.88,\n",
       "        5.52,  7.54,  6.78,  8.94, 11.97, 10.27, 12.34,  9.1 ,  5.29,\n",
       "        7.22,  6.72,  7.51,  9.62,  6.53, 12.86,  8.44,  5.5 ,  5.7 ,\n",
       "        8.81,  8.2 ,  8.16,  6.21, 10.59,  6.65, 11.34,  4.21,  3.57,\n",
       "        6.19,  9.42,  7.67, 10.63, 13.44, 12.33, 16.47, 18.66, 14.09,\n",
       "       12.27, 15.55, 13.  , 10.16, 16.21, 17.09, 10.45, 15.76, 12.04,\n",
       "       10.3 , 15.37, 13.61, 14.37, 14.27, 17.93, 25.41, 17.58, 14.81,\n",
       "       27.26, 17.19, 15.39, 18.34, 12.6 , 12.26, 11.12, 15.03, 17.31,\n",
       "       16.96, 16.9 , 14.59, 21.32, 18.46, 24.16, 34.41, 26.82, 26.42,\n",
       "       29.29, 27.8 , 16.65, 29.53, 28.32, 21.45, 14.1 , 13.28, 12.12,\n",
       "       15.79, 15.12, 15.02, 16.14,  4.59,  6.43,  7.39,  5.5 ,  1.73,\n",
       "        1.92,  3.32, 11.64,  9.81,  3.7 , 12.14, 11.1 , 11.32, 14.43,\n",
       "       12.03, 14.69,  9.04,  9.64,  5.33, 10.11,  6.29,  6.92,  5.04,\n",
       "        7.56,  9.45,  4.82,  5.68, 13.98, 13.15,  4.45,  6.68,  4.56,\n",
       "        5.39,  5.1 ,  4.69,  2.87,  5.03,  4.38,  2.97,  4.08,  8.61,\n",
       "        6.62,  4.56,  4.45,  7.43,  3.11,  3.81,  2.88, 10.87, 10.97,\n",
       "       18.06, 14.66, 23.09, 17.27, 23.98, 16.03,  9.38, 29.55,  9.47,\n",
       "       13.51,  9.69, 17.92, 10.5 ,  9.71, 21.46,  9.93,  7.6 ,  4.14,\n",
       "        4.63,  3.13,  6.36,  3.92,  3.76, 11.65,  5.25,  2.47,  3.95,\n",
       "        8.05, 10.88,  9.54,  4.73,  6.36,  7.37, 11.38, 12.4 , 11.22,\n",
       "        5.19, 12.5 , 18.46,  9.16, 10.15,  9.52,  6.56,  5.9 ,  3.59,\n",
       "        3.53,  3.54,  6.57,  9.25,  3.11,  5.12,  7.79,  6.9 ,  9.59,\n",
       "        7.26,  5.91, 11.25,  8.1 , 10.45, 14.79,  7.44,  3.16, 13.65,\n",
       "       13.  ,  6.59,  7.73,  6.58,  3.53,  2.98,  6.05,  4.16,  7.19,\n",
       "        4.85,  3.76,  4.59,  3.01,  3.16,  7.85,  8.23, 12.93,  7.14,\n",
       "        7.6 ,  9.51,  3.33,  3.56,  4.7 ,  8.58, 10.4 ,  6.27,  7.39,\n",
       "       15.84,  4.97,  4.74,  6.07,  9.5 ,  8.67,  4.86,  6.93,  8.93,\n",
       "        6.47,  7.53,  4.54,  9.97, 12.64,  5.98, 11.72,  7.9 ,  9.28,\n",
       "       11.5 , 18.33, 15.94, 10.36, 12.73,  7.2 ,  6.87,  7.7 , 11.74,\n",
       "        6.12,  5.08,  6.15, 12.79,  9.97,  7.34,  9.09, 12.43,  7.83,\n",
       "        5.68,  6.75,  8.01,  9.8 , 10.56,  8.51,  9.74,  9.29,  5.49,\n",
       "        8.65,  7.18,  4.61, 10.53, 12.67,  6.36,  5.99,  5.89,  5.98,\n",
       "        5.49,  7.79,  4.5 ,  8.05,  5.57, 17.6 , 13.27, 11.48, 12.67,\n",
       "        7.79, 14.19, 10.19, 14.64,  5.29,  7.12, 14.  , 13.33,  3.26,\n",
       "        3.73,  2.96,  9.53,  8.88, 34.77, 37.97, 13.44, 23.24, 21.24,\n",
       "       23.69, 21.78, 17.21, 21.08, 23.6 , 24.56, 30.63, 30.81, 28.28,\n",
       "       31.99, 30.62, 20.85, 17.11, 18.76, 25.68, 15.17, 16.35, 17.12,\n",
       "       19.37, 19.92, 30.59, 29.97, 26.77, 20.32, 20.31, 19.77, 27.38,\n",
       "       22.98, 23.34, 12.13, 26.4 , 19.78, 10.11, 21.22, 34.37, 20.08,\n",
       "       36.98, 29.05, 25.79, 26.64, 20.62, 22.74, 15.02, 15.7 , 14.1 ,\n",
       "       23.29, 17.16, 24.39, 15.69, 14.52, 21.52, 24.08, 17.64, 19.69,\n",
       "       12.03, 16.22, 15.17, 23.27, 18.05, 26.45, 34.02, 22.88, 22.11,\n",
       "       19.52, 16.59, 18.85, 23.79, 23.98, 17.79, 16.44, 18.13, 19.31,\n",
       "       17.44, 17.73, 17.27, 16.74, 18.71, 18.13, 19.01, 16.94, 16.23,\n",
       "       14.7 , 16.42, 14.65, 13.99, 10.29, 13.22, 14.13, 17.15, 21.32,\n",
       "       18.13, 14.76, 16.29, 12.87, 14.36, 11.66, 18.14, 24.1 , 18.68,\n",
       "       24.91, 18.03, 13.11, 10.74,  7.74,  7.01, 10.42, 13.34, 10.58,\n",
       "       14.98, 11.45, 18.06, 23.97, 29.68, 18.07, 13.35, 12.01, 13.59,\n",
       "       17.6 , 21.14, 14.1 , 12.92, 15.1 , 14.33,  9.67,  9.08,  5.64,\n",
       "        6.48,  7.88])"
      ]
     },
     "execution_count": 8,
     "metadata": {},
     "output_type": "execute_result"
    }
   ],
   "source": [
    "y"
   ]
  },
  {
   "cell_type": "code",
   "execution_count": 9,
   "id": "dd9afc76",
   "metadata": {},
   "outputs": [],
   "source": [
    "from sklearn.model_selection import train_test_split"
   ]
  },
  {
   "cell_type": "code",
   "execution_count": 10,
   "id": "6b1480db",
   "metadata": {},
   "outputs": [],
   "source": [
    "x_train,x_test,y_train,y_test = train_test_split(x,y,test_size = 0.2, random_state = 0)"
   ]
  },
  {
   "cell_type": "code",
   "execution_count": 11,
   "id": "3479000e",
   "metadata": {},
   "outputs": [],
   "source": [
    "from sklearn.linear_model import LinearRegression\n",
    "from sklearn.metrics import mean_squared_error"
   ]
  },
  {
   "cell_type": "code",
   "execution_count": 12,
   "id": "7af5dd5f",
   "metadata": {},
   "outputs": [],
   "source": [
    "model = LinearRegression()"
   ]
  },
  {
   "cell_type": "code",
   "execution_count": 13,
   "id": "df52a443",
   "metadata": {},
   "outputs": [
    {
     "data": {
      "text/plain": [
       "LinearRegression()"
      ]
     },
     "execution_count": 13,
     "metadata": {},
     "output_type": "execute_result"
    }
   ],
   "source": [
    "model.fit(x_train,y_train)"
   ]
  },
  {
   "cell_type": "code",
   "execution_count": 14,
   "id": "53c7205e",
   "metadata": {},
   "outputs": [
    {
     "data": {
      "text/plain": [
       "33.98657328250859"
      ]
     },
     "execution_count": 14,
     "metadata": {},
     "output_type": "execute_result"
    }
   ],
   "source": [
    "model.intercept_"
   ]
  },
  {
   "cell_type": "code",
   "execution_count": 15,
   "id": "290e44d3",
   "metadata": {},
   "outputs": [
    {
     "data": {
      "text/plain": [
       "array([ 1.43968294e-01,  2.20476057e-02,  9.12090423e-02, -1.92962197e-01,\n",
       "        2.78257537e+00, -4.59462419e+00,  9.38450235e-02,  3.75870488e-02,\n",
       "        1.64659174e-02, -1.28318857e-03,  1.48661356e-01, -1.28869979e-02])"
      ]
     },
     "execution_count": 15,
     "metadata": {},
     "output_type": "execute_result"
    }
   ],
   "source": [
    "model.coef_"
   ]
  },
  {
   "cell_type": "code",
   "execution_count": 16,
   "id": "b34b001e",
   "metadata": {},
   "outputs": [
    {
     "data": {
      "text/plain": [
       "68.30386021775365"
      ]
     },
     "execution_count": 16,
     "metadata": {},
     "output_type": "execute_result"
    }
   ],
   "source": [
    "model.score(x_train,y_train)*100"
   ]
  },
  {
   "cell_type": "code",
   "execution_count": 17,
   "id": "50d3476c",
   "metadata": {},
   "outputs": [],
   "source": [
    "y_pred = model.predict(x_test)"
   ]
  },
  {
   "cell_type": "code",
   "execution_count": 18,
   "id": "21b66bb6",
   "metadata": {},
   "outputs": [],
   "source": [
    "MSE = mean_squared_error(y_pred,y_test)"
   ]
  },
  {
   "cell_type": "code",
   "execution_count": 19,
   "id": "b5822649",
   "metadata": {},
   "outputs": [
    {
     "data": {
      "text/plain": [
       "21.085848548855317"
      ]
     },
     "execution_count": 19,
     "metadata": {},
     "output_type": "execute_result"
    }
   ],
   "source": [
    "MSE"
   ]
  },
  {
   "cell_type": "code",
   "execution_count": 20,
   "id": "bc6340bc",
   "metadata": {},
   "outputs": [],
   "source": [
    "RMSE = np.sqrt(MSE)"
   ]
  },
  {
   "cell_type": "code",
   "execution_count": 21,
   "id": "3f084aa3",
   "metadata": {},
   "outputs": [
    {
     "data": {
      "text/plain": [
       "4.591932986102401"
      ]
     },
     "execution_count": 21,
     "metadata": {},
     "output_type": "execute_result"
    }
   ],
   "source": [
    "RMSE"
   ]
  },
  {
   "cell_type": "code",
   "execution_count": null,
   "id": "bc37e8db",
   "metadata": {},
   "outputs": [],
   "source": []
  },
  {
   "cell_type": "code",
   "execution_count": null,
   "id": "b4e01816",
   "metadata": {},
   "outputs": [],
   "source": []
  }
 ],
 "metadata": {
  "kernelspec": {
   "display_name": "Python 3 (ipykernel)",
   "language": "python",
   "name": "python3"
  },
  "language_info": {
   "codemirror_mode": {
    "name": "ipython",
    "version": 3
   },
   "file_extension": ".py",
   "mimetype": "text/x-python",
   "name": "python",
   "nbconvert_exporter": "python",
   "pygments_lexer": "ipython3",
   "version": "3.9.13"
  }
 },
 "nbformat": 4,
 "nbformat_minor": 5
}
